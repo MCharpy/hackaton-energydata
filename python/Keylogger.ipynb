{
 "cells": [
  {
   "cell_type": "markdown",
   "source": [
    "## Code fourni pour lire les binaires:"
   ],
   "metadata": {
    "collapsed": false,
    "pycharm": {
     "name": "#%% md\n"
    }
   }
  },
  {
   "cell_type": "code",
   "execution_count": 30,
   "metadata": {
    "collapsed": true,
    "pycharm": {
     "name": "#%%\n"
    }
   },
   "outputs": [],
   "source": [
    "import matplotlib.pyplot as plt\n",
    "import numpy as np\n",
    "import time\n",
    "\n",
    "def read_int(f):\n",
    "    ba = bytearray(4)\n",
    "    f.readinto(ba)\n",
    "    prm = np.frombuffer(ba, dtype=np.int32)\n",
    "    return prm[0]\n",
    "\n",
    "def read_double(f):\n",
    "    ba = bytearray(8)\n",
    "    f.readinto(ba)\n",
    "    prm = np.frombuffer(ba, dtype=np.double)\n",
    "    return prm[0]\n",
    "\n",
    "def read_double_tab(f, n):\n",
    "    ba = bytearray(8*n)\n",
    "    nr = f.readinto(ba)\n",
    "    if nr != len(ba):\n",
    "        return []\n",
    "    else:\n",
    "        prm = np.frombuffer(ba, dtype=np.double)\n",
    "        return prm\n",
    "\n",
    "def get_pics_from_file(filename):\n",
    "    # Lecture du fichier d'infos + pics detectes (post-processing KeyFinder)\n",
    "    #print(\"Ouverture du fichier de pics \"+filename)\n",
    "    f_pic = open(filename, \"rb\")\n",
    "    info = dict()\n",
    "    info[\"nb_pics\"] = read_int(f_pic)\n",
    "    #print(\"Nb pics par trame: \" + str(info[\"nb_pics\"]))\n",
    "    info[\"freq_sampling_khz\"] = read_double(f_pic)\n",
    "    #print(\"Frequence d'echantillonnage: \" + str(info[\"freq_sampling_khz\"]) + \" kHz\")\n",
    "    info[\"freq_trame_hz\"] = read_double(f_pic)\n",
    "    #print(\"Frequence trame: \" + str(info[\"freq_trame_hz\"]) + \" Hz\")\n",
    "    info[\"freq_pic_khz\"] = read_double(f_pic)\n",
    "    #print(\"Frequence pic: \" + str(info[\"freq_pic_khz\"]) + \" kHz\")\n",
    "    info[\"norm_fact\"] = read_double(f_pic)\n",
    "    #print(\"Facteur de normalisation: \" + str(info[\"norm_fact\"]))\n",
    "    tab_pics = []\n",
    "    pics = read_double_tab(f_pic, info[\"nb_pics\"])\n",
    "    nb_trames = 1\n",
    "    while len(pics) > 0:\n",
    "        nb_trames = nb_trames+1\n",
    "        tab_pics.append(pics)\n",
    "        pics = read_double_tab(f_pic, info[\"nb_pics\"])\n",
    "    #print(\"Nb trames: \" + str(nb_trames))\n",
    "    f_pic.close()\n",
    "    return tab_pics, info\n",
    "\n",
    "    \"\"\"\n",
    "    ######### Pics ############\n",
    "    # NO KEY\n",
    "    plt.figure(1)\n",
    "    plt.subplot(211)\n",
    "    plt.plot(range(1,info[\"nb_pics\"]+1), np.mean(pics_nokey,axis=0), 'ko')\n",
    "    plt.xlabel('numéro de pic')\n",
    "    plt.ylabel('valeur du pic')\n",
    "    plt.title('no key')\n",
    "    plt.ylim(0, 1.5)\n",
    "    plt.grid(b=True, which='both')\n",
    "    # PAD-0\n",
    "    plt.subplot(212)\n",
    "    plt.plot(range(1,info[\"nb_pics\"]+1), pics_nokey[0], 'ko')\n",
    "    plt.xlabel('numéro de pic')\n",
    "    plt.ylabel('valeur du pic')\n",
    "    plt.title('PAD-0')\n",
    "    plt.ylim(0, 1.5)\n",
    "    plt.grid(b=True, which='both')\n",
    "    #\n",
    "    plt.show()\n",
    "    \"\"\""
   ]
  },
  {
   "cell_type": "markdown",
   "source": [
    "# Notre Algorithme\n",
    "* Enlever le bruit en faisant - Nokey ------- Inutile ?\n",
    "* Séparer les trames en chunk ------- While == précédent + [un certain pas]\n",
    "* Attention à shift+a par exemple --- Maybe in top best letters ?\n",
    "* ctrl alt suppr au début ---- Histoire de pas oublier"
   ],
   "metadata": {
    "collapsed": false,
    "pycharm": {
     "name": "#%% md\n"
    }
   }
  },
  {
   "cell_type": "markdown",
   "source": [
    "### Bin to png"
   ],
   "metadata": {
    "collapsed": false
   }
  },
  {
   "cell_type": "code",
   "execution_count": null,
   "outputs": [],
   "source": [
    "#for file in glob.glob(\"../data/pics_*.bin\"):\n",
    " #   key = file.split(\"pics_\")[1].replace(\".bin\",\"\")\n",
    " #   values, info = get_pics_from_file(file)\n",
    " #   plt.imshow(values,aspect=\"auto\",)\n",
    " #   plt.savefig(\"../data/PNGs/pics_\" + key + \".png\")"
   ],
   "metadata": {
    "collapsed": false,
    "pycharm": {
     "name": "#%%\n"
    }
   }
  },
  {
   "cell_type": "markdown",
   "source": [
    "### Bibliothèques utilisées :"
   ],
   "metadata": {
    "collapsed": false,
    "pycharm": {
     "name": "#%% md\n"
    }
   }
  },
  {
   "cell_type": "code",
   "execution_count": 31,
   "outputs": [],
   "source": [
    "from sklearn.model_selection import train_test_split\n",
    "from sklearn.preprocessing import StandardScaler\n",
    "from sklearn.neighbors import KNeighborsClassifier\n",
    "from sklearn.metrics import confusion_matrix,f1_score,accuracy_score\n",
    "import glob"
   ],
   "metadata": {
    "collapsed": false,
    "pycharm": {
     "name": "#%%\n"
    }
   }
  },
  {
   "cell_type": "markdown",
   "source": [
    "## Constitution du dataset"
   ],
   "metadata": {
    "collapsed": false,
    "pycharm": {
     "name": "#%% md\n"
    }
   }
  },
  {
   "cell_type": "code",
   "execution_count": null,
   "outputs": [],
   "source": [
    "# Il faut enlever le bruit\n",
    "\n",
    "X,Y = [],[]\n",
    "\n",
    "pics_nokey, info = get_pics_from_file(\"../data/pics_NOKEY.bin\")\n",
    "\n",
    "i = 0\n",
    "for file in glob.glob(\"../data/pics_*.bin\"):\n",
    "    key = file.split(\"pics_\")[1].replace(\".bin\",\"\")\n",
    "    if key == \"LOGINMDP\" or key == \"NOKEY\":\n",
    "        continue\n",
    "    values, info = get_pics_from_file(file)\n",
    "    for frame in values:\n",
    "        X.append(frame)\n",
    "        Y.append(key)\n",
    "\n",
    "    i += 1\n",
    "    if i == 3:\n",
    "        break\n",
    "X_train, X_test, Y_train, Y_test = train_test_split(X,Y,test_size=0.2)\n",
    "\n",
    "# Scaling des données\n",
    "sc_X = StandardScaler()\n",
    "X_train = sc_X.fit_transform(X_train)\n",
    "X_test = sc_X.transform(X_test)"
   ],
   "metadata": {
    "collapsed": false,
    "pycharm": {
     "name": "#%%\n"
    }
   }
  },
  {
   "cell_type": "code",
   "execution_count": 4,
   "outputs": [],
   "source": [
    "X,Y = [],[]\n",
    "\n",
    "pics_nokey, info = get_pics_from_file(\"../data/pics_NOKEY.bin\")\n",
    "\n",
    "i = 0\n",
    "for file in glob.glob(\"../data/pics_*.bin\"):\n",
    "    key = file.split(\"pics_\")[1].replace(\".bin\",\"\")\n",
    "    if key == \"LOGINMDP\" or key == \"NOKEY\":\n",
    "        continue\n",
    "    values, info = get_pics_from_file(file)\n",
    "    for frame in values:\n",
    "        X.append(frame)\n",
    "        Y.append(key)\n",
    "\n",
    "    i += 1\n",
    "    if i == 3:\n",
    "        break\n",
    "X_train, X_test, Y_train, Y_test = train_test_split(X,Y,test_size=0.2)\n",
    "\n",
    "# Scaling des données\n",
    "sc_X = StandardScaler()\n",
    "X_train = sc_X.fit_transform(X_train)\n",
    "X_test = sc_X.transform(X_test)"
   ],
   "metadata": {
    "collapsed": false,
    "pycharm": {
     "name": "#%%\n"
    }
   }
  },
  {
   "cell_type": "markdown",
   "source": [
    "### KNN Algorithm"
   ],
   "metadata": {
    "collapsed": false,
    "pycharm": {
     "name": "#%% md\n"
    }
   }
  },
  {
   "cell_type": "code",
   "execution_count": 68,
   "outputs": [
    {
     "data": {
      "text/plain": "array(['D', '5', '0', '5', 'A', '0', 'F', 'SUPPR', '5', 'P', '5', '5',\n       '0', 'P', 'E', '7', '0', 'P', 'D', 'E', '5', 'A', 'A', 'SUPPR',\n       'ENTER', 'D', '0', '7', '5', 'H', 'A', 'CTRL', 'Z', 'A', '0', '5',\n       'A', '5', '0', 'P', 'A', 'SUPPR', 'E', 'P', 'Y', 'D', 'D', '5',\n       '5', 'W', 'W', 'A', 'P', '0', 'P', 'P', '5', 'D', 'A', '7',\n       'ENTER', '0', 'H', '0', 'F', '0', 'F', '0', '0', '3', 'M', 'W',\n       'A', 'F', 'P', 'A', 'A', 'H', 'P', '0', 'P', 'A', 'SUPPR', '0',\n       'D', 'SPACE', '5', '0', 'P', 'SHIFT', 'SHIFT', 'P', 'SUPPR', '0',\n       'W', '0', '5', 'P', 'A', '0', '0', '0', 'A', 'ENTER', 'D', '1',\n       '0', 'SUPPR', '5', '3', 'D', 'E', 'D', 'CTRL', 'SUPPR', '5', 'A',\n       'SUPPR', 'E', 'P', 'A', 'SUPPR', 'A', 'A', '0', 'CTRL', '5', '0',\n       '0', 'SUPPR', '0', 'A', 'A', '5', '0', '3', 'A', '0', '3', 'SUPPR',\n       'P', 'P', 'W', '5', 'ENTER', 'SHIFT', 'D', '0', 'P', 'P', 'SUPPR',\n       'ENTER', '5', '5', 'D', 'F', 'P', 'E', 'P', 'D', 'A', 'ENTER', 'Q',\n       'A'], dtype='<U5')"
     },
     "execution_count": 68,
     "metadata": {},
     "output_type": "execute_result"
    }
   ],
   "source": [
    "import math\n",
    "# Best value for N (internet said this)\n",
    "N = math.floor(math.sqrt(len(Y_test)))\n",
    "if N % 2 == 0:\n",
    "    N -= 1\n",
    "\n",
    "# KNN Clustering\n",
    "classifier = KNeighborsClassifier(n_neighbors=N, p=2, metric='euclidean',n_jobs=-1)\n",
    "classifier.fit(X_train,Y_train)\n",
    "Y_pred = classifier.predict(X_test)\n",
    "Y_pred"
   ],
   "metadata": {
    "collapsed": false,
    "pycharm": {
     "name": "#%%\n"
    }
   }
  },
  {
   "cell_type": "markdown",
   "source": [
    "### Evaluate Model"
   ],
   "metadata": {
    "collapsed": false,
    "pycharm": {
     "name": "#%% md\n"
    }
   }
  },
  {
   "cell_type": "code",
   "execution_count": 69,
   "outputs": [
    {
     "name": "stdout",
     "output_type": "stream",
     "text": [
      "[[0 0 0 ... 0 0 0]\n",
      " [1 0 0 ... 0 0 1]\n",
      " [2 0 0 ... 0 0 0]\n",
      " ...\n",
      " [0 0 0 ... 0 0 0]\n",
      " [1 0 0 ... 0 0 0]\n",
      " [1 0 0 ... 0 0 0]]\n",
      "0.06707317073170732 %\n"
     ]
    }
   ],
   "source": [
    "cm = confusion_matrix(Y_test,Y_pred)\n",
    "# La diagonale c'est les bons guess et le reste les fautes\n",
    "print(cm)\n",
    "print(accuracy_score(Y_test,Y_pred),\"%\")\n"
   ],
   "metadata": {
    "collapsed": false,
    "pycharm": {
     "name": "#%%\n"
    }
   }
  },
  {
   "cell_type": "code",
   "execution_count": null,
   "outputs": [],
   "source": [],
   "metadata": {
    "collapsed": false,
    "pycharm": {
     "name": "#%%\n"
    }
   }
  }
 ],
 "metadata": {
  "kernelspec": {
   "display_name": "Python 3",
   "language": "python",
   "name": "python3"
  },
  "language_info": {
   "codemirror_mode": {
    "name": "ipython",
    "version": 2
   },
   "file_extension": ".py",
   "mimetype": "text/x-python",
   "name": "python",
   "nbconvert_exporter": "python",
   "pygments_lexer": "ipython2",
   "version": "2.7.6"
  }
 },
 "nbformat": 4,
 "nbformat_minor": 0
}