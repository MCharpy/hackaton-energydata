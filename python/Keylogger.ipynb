{
 "cells": [
  {
   "cell_type": "markdown",
   "source": [
    "## Code fourni pour lire les binaires:"
   ],
   "metadata": {
    "collapsed": false,
    "pycharm": {
     "name": "#%% md\n"
    }
   }
  },
  {
   "cell_type": "code",
   "execution_count": 1,
   "metadata": {
    "collapsed": true,
    "pycharm": {
     "name": "#%%\n"
    }
   },
   "outputs": [],
   "source": [
    "import matplotlib.pyplot as plt\n",
    "import numpy as np\n",
    "import time\n",
    "\n",
    "def read_int(f):\n",
    "    ba = bytearray(4)\n",
    "    f.readinto(ba)\n",
    "    prm = np.frombuffer(ba, dtype=np.int32)\n",
    "    return prm[0]\n",
    "\n",
    "def read_double(f):\n",
    "    ba = bytearray(8)\n",
    "    f.readinto(ba)\n",
    "    prm = np.frombuffer(ba, dtype=np.double)\n",
    "    return prm[0]\n",
    "\n",
    "def read_double_tab(f, n):\n",
    "    ba = bytearray(8*n)\n",
    "    nr = f.readinto(ba)\n",
    "    if nr != len(ba):\n",
    "        return []\n",
    "    else:\n",
    "        prm = np.frombuffer(ba, dtype=np.double)\n",
    "        return prm\n",
    "\n",
    "def get_pics_from_file(filename):\n",
    "    # Lecture du fichier d'infos + pics detectes (post-processing KeyFinder)\n",
    "    #print(\"Ouverture du fichier de pics \"+filename)\n",
    "    f_pic = open(filename, \"rb\")\n",
    "    info = dict()\n",
    "    info[\"nb_pics\"] = read_int(f_pic)\n",
    "    #print(\"Nb pics par trame: \" + str(info[\"nb_pics\"]))\n",
    "    info[\"freq_sampling_khz\"] = read_double(f_pic)\n",
    "    #print(\"Frequence d'echantillonnage: \" + str(info[\"freq_sampling_khz\"]) + \" kHz\")\n",
    "    info[\"freq_trame_hz\"] = read_double(f_pic)\n",
    "    #print(\"Frequence trame: \" + str(info[\"freq_trame_hz\"]) + \" Hz\")\n",
    "    info[\"freq_pic_khz\"] = read_double(f_pic)\n",
    "    #print(\"Frequence pic: \" + str(info[\"freq_pic_khz\"]) + \" kHz\")\n",
    "    info[\"norm_fact\"] = read_double(f_pic)\n",
    "    #print(\"Facteur de normalisation: \" + str(info[\"norm_fact\"]))\n",
    "    tab_pics = []\n",
    "    pics = read_double_tab(f_pic, info[\"nb_pics\"])\n",
    "    nb_trames = 1\n",
    "    while len(pics) > 0:\n",
    "        nb_trames = nb_trames+1\n",
    "        tab_pics.append(pics)\n",
    "        pics = read_double_tab(f_pic, info[\"nb_pics\"])\n",
    "    #print(\"Nb trames: \" + str(nb_trames))\n",
    "    f_pic.close()\n",
    "    return tab_pics, info\n",
    "\n",
    "    pics_nokey, info = get_pics_from_file(\"../data/pics_NOKEY.bin\")\n",
    "    pics_pad0, info = get_pics_from_file(\"../data/pics_0.bin\")\n",
    "\n",
    "\n",
    "    ######### Pics ############\n",
    "    # NO KEY\n",
    "    plt.figure(1)\n",
    "    plt.subplot(211)\n",
    "    plt.plot(range(1,info[\"nb_pics\"]+1), np.mean(pics_nokey,axis=0), 'ko')\n",
    "    plt.xlabel('numéro de pic')\n",
    "    plt.ylabel('valeur du pic')\n",
    "    plt.title('no key')\n",
    "    plt.ylim(0, 1.5)\n",
    "    plt.grid(b=True, which='both')\n",
    "    # PAD-0\n",
    "    plt.subplot(212)\n",
    "    plt.plot(range(1,info[\"nb_pics\"]+1), pics_nokey[0], 'ko')\n",
    "    plt.xlabel('numéro de pic')\n",
    "    plt.ylabel('valeur du pic')\n",
    "    plt.title('PAD-0')\n",
    "    plt.ylim(0, 1.5)\n",
    "    plt.grid(b=True, which='both')\n",
    "    #\n",
    "    plt.show()"
   ]
  },
  {
   "cell_type": "markdown",
   "source": [
    "# Notre Algorithme\n",
    "* Enlever le bruit en faisant - Nokey ------- Inutile ?\n",
    "* Séparer les trames en clusters ------- While == précédent + [un certain pas]\n",
    "* Attention à shift+a par exemple --- Maybe in top best letters ?\n",
    "* ctrl alt suppr au début ---- Histoire de pas oublier\n",
    "\n",
    "### Bibliothèques utilisées :"
   ],
   "metadata": {
    "collapsed": false,
    "pycharm": {
     "name": "#%% md\n"
    }
   }
  },
  {
   "cell_type": "code",
   "execution_count": 81,
   "outputs": [],
   "source": [
    "from sklearn.model_selection import train_test_split\n",
    "from sklearn.preprocessing import StandardScaler\n",
    "from sklearn.neighbors import KNeighborsClassifier\n",
    "from sklearn.metrics import confusion_matrix,f1_score,accuracy_score"
   ],
   "metadata": {
    "collapsed": false,
    "pycharm": {
     "name": "#%%\n"
    }
   }
  },
  {
   "cell_type": "markdown",
   "source": [
    "### Constitution du dataset"
   ],
   "metadata": {
    "collapsed": false,
    "pycharm": {
     "name": "#%% md\n"
    }
   }
  },
  {
   "cell_type": "code",
   "execution_count": 82,
   "outputs": [],
   "source": [
    "X,Y = [],[]\n",
    "\n",
    "# Faut itérer maintenant\n",
    "pics_A, info = get_pics_from_file(\"../data/pics_A.bin\")\n",
    "pics_B, info = get_pics_from_file(\"../data/pics_B.bin\")\n",
    "pics_C, info = get_pics_from_file(\"../data/pics_C.bin\")\n",
    "\n",
    "for trame in pics_A:\n",
    "    X.append(trame)\n",
    "    Y.append(\"A\")\n",
    "for trame in pics_B:\n",
    "    X.append(trame)\n",
    "    Y.append(\"B\")\n",
    "for trame in pics_C:\n",
    "    X.append(trame)\n",
    "    Y.append(\"C\")\n",
    "\n",
    "X_train, X_test, Y_train, Y_test = train_test_split(X,Y,test_size=0.2)\n",
    "\n",
    "# Scaling des données\n",
    "sc_X = StandardScaler()\n",
    "X_train = sc_X.fit_transform(X_train)\n",
    "X_test = sc_X.transform(X_test)"
   ],
   "metadata": {
    "collapsed": false,
    "pycharm": {
     "name": "#%%\n"
    }
   }
  },
  {
   "cell_type": "markdown",
   "source": [
    "### KNN Algorithm"
   ],
   "metadata": {
    "collapsed": false,
    "pycharm": {
     "name": "#%% md\n"
    }
   }
  },
  {
   "cell_type": "code",
   "execution_count": 83,
   "outputs": [
    {
     "data": {
      "text/plain": "array(['C', 'C', 'B', ..., 'B', 'C', 'C'], dtype='<U1')"
     },
     "execution_count": 83,
     "metadata": {},
     "output_type": "execute_result"
    }
   ],
   "source": [
    "# Best value for N (internet said this)\n",
    "import math\n",
    "N = math.floor(math.sqrt(len(Y_test)))\n",
    "if N % 2 == 0:\n",
    "    N -= 1\n",
    "\n",
    "# KNN Clustering\n",
    "classifier = KNeighborsClassifier(n_neighbors=N, p=2, metric='euclidean')\n",
    "classifier.fit(X_train,Y_train)\n",
    "Y_pred = classifier.predict(X_test)\n",
    "Y_pred"
   ],
   "metadata": {
    "collapsed": false,
    "pycharm": {
     "name": "#%%\n"
    }
   }
  },
  {
   "cell_type": "markdown",
   "source": [
    "### Evaluate Model"
   ],
   "metadata": {
    "collapsed": false,
    "pycharm": {
     "name": "#%% md\n"
    }
   }
  },
  {
   "cell_type": "code",
   "execution_count": 87,
   "outputs": [
    {
     "name": "stdout",
     "output_type": "stream",
     "text": [
      "[[1512   13    8]\n",
      " [  18 1509    3]\n",
      " [  25    5 1512]]\n",
      "0.9843648208469056 %\n"
     ]
    }
   ],
   "source": [
    "cm = confusion_matrix(Y_test,Y_pred)\n",
    "# La diagonale sont les bons guess et le reste les fautes\n",
    "print(cm)\n",
    "print(accuracy_score(Y_test,Y_pred),\"%\")"
   ],
   "metadata": {
    "collapsed": false,
    "pycharm": {
     "name": "#%%\n"
    }
   }
  },
  {
   "cell_type": "code",
   "execution_count": null,
   "outputs": [],
   "source": [],
   "metadata": {
    "collapsed": false,
    "pycharm": {
     "name": "#%%\n"
    }
   }
  }
 ],
 "metadata": {
  "kernelspec": {
   "display_name": "Python 3",
   "language": "python",
   "name": "python3"
  },
  "language_info": {
   "codemirror_mode": {
    "name": "ipython",
    "version": 2
   },
   "file_extension": ".py",
   "mimetype": "text/x-python",
   "name": "python",
   "nbconvert_exporter": "python",
   "pygments_lexer": "ipython2",
   "version": "2.7.6"
  }
 },
 "nbformat": 4,
 "nbformat_minor": 0
}