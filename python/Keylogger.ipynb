{
 "cells": [
  {
   "cell_type": "markdown",
   "source": [
    "## Code fourni pour lire les binaires:"
   ],
   "metadata": {
    "collapsed": false,
    "pycharm": {
     "name": "#%% md\n"
    }
   }
  },
  {
   "cell_type": "code",
   "execution_count": 144,
   "metadata": {
    "collapsed": true,
    "pycharm": {
     "name": "#%%\n"
    }
   },
   "outputs": [],
   "source": [
    "import matplotlib.pyplot as plt\n",
    "import numpy as np\n",
    "import time\n",
    "\n",
    "def read_int(f):\n",
    "    ba = bytearray(4)\n",
    "    f.readinto(ba)\n",
    "    prm = np.frombuffer(ba, dtype=np.int32)\n",
    "    return prm[0]\n",
    "\n",
    "def read_double(f):\n",
    "    ba = bytearray(8)\n",
    "    f.readinto(ba)\n",
    "    prm = np.frombuffer(ba, dtype=np.double)\n",
    "    return prm[0]\n",
    "\n",
    "def read_double_tab(f, n):\n",
    "    ba = bytearray(8*n)\n",
    "    nr = f.readinto(ba)\n",
    "    if nr != len(ba):\n",
    "        return []\n",
    "    else:\n",
    "        prm = np.frombuffer(ba, dtype=np.double)\n",
    "        return prm\n",
    "\n",
    "def get_pics_from_file(filename):\n",
    "    # Lecture du fichier d'infos + pics detectes (post-processing KeyFinder)\n",
    "    #print(\"Ouverture du fichier de pics \"+filename)\n",
    "    f_pic = open(filename, \"rb\")\n",
    "    info = dict()\n",
    "    info[\"nb_pics\"] = read_int(f_pic)\n",
    "    #print(\"Nb pics par trame: \" + str(info[\"nb_pics\"]))\n",
    "    info[\"freq_sampling_khz\"] = read_double(f_pic)\n",
    "    #print(\"Frequence d'echantillonnage: \" + str(info[\"freq_sampling_khz\"]) + \" kHz\")\n",
    "    info[\"freq_trame_hz\"] = read_double(f_pic)\n",
    "    #print(\"Frequence trame: \" + str(info[\"freq_trame_hz\"]) + \" Hz\")\n",
    "    info[\"freq_pic_khz\"] = read_double(f_pic)\n",
    "    #print(\"Frequence pic: \" + str(info[\"freq_pic_khz\"]) + \" kHz\")\n",
    "    info[\"norm_fact\"] = read_double(f_pic)\n",
    "    #print(\"Facteur de normalisation: \" + str(info[\"norm_fact\"]))\n",
    "    tab_pics = []\n",
    "    pics = read_double_tab(f_pic, info[\"nb_pics\"])\n",
    "    nb_trames = 1\n",
    "    while len(pics) > 0:\n",
    "        nb_trames = nb_trames+1\n",
    "        tab_pics.append(pics)\n",
    "        pics = read_double_tab(f_pic, info[\"nb_pics\"])\n",
    "    #print(\"Nb trames: \" + str(nb_trames))\n",
    "    f_pic.close()\n",
    "    return tab_pics, info\n",
    "\n",
    "    \"\"\"\n",
    "    ######### Pics ############\n",
    "    # NO KEY\n",
    "    plt.figure(1)\n",
    "    plt.subplot(211)\n",
    "    plt.plot(range(1,info[\"nb_pics\"]+1), np.mean(pics_nokey,axis=0), 'ko')\n",
    "    plt.xlabel('numéro de pic')\n",
    "    plt.ylabel('valeur du pic')\n",
    "    plt.title('no key')\n",
    "    plt.ylim(0, 1.5)\n",
    "    plt.grid(b=True, which='both')\n",
    "    # PAD-0\n",
    "    plt.subplot(212)\n",
    "    plt.plot(range(1,info[\"nb_pics\"]+1), pics_nokey[0], 'ko')\n",
    "    plt.xlabel('numéro de pic')\n",
    "    plt.ylabel('valeur du pic')\n",
    "    plt.title('PAD-0')\n",
    "    plt.ylim(0, 1.5)\n",
    "    plt.grid(b=True, which='both')\n",
    "    #\n",
    "    plt.show()\n",
    "    \"\"\""
   ]
  },
  {
   "cell_type": "markdown",
   "source": [
    "# Notre Algorithme\n",
    "* Séparer les trames en chunk ------- While == précédent + [un certain pas]\n",
    "* Attention à shift+a par exemple --- Maybe in top best letters ?\n",
    "* ctrl alt suppr au début ---- Histoire de pas oublier"
   ],
   "metadata": {
    "collapsed": false,
    "pycharm": {
     "name": "#%% md\n"
    }
   }
  },
  {
   "cell_type": "markdown",
   "source": [
    "### Bin to png"
   ],
   "metadata": {
    "collapsed": false
   }
  },
  {
   "cell_type": "code",
   "execution_count": 145,
   "outputs": [],
   "source": [
    "#for file in glob.glob(\"../data/pics_*.bin\"):\n",
    " #   key = file.split(\"pics_\")[1].replace(\".bin\",\"\")\n",
    " #   values, info = get_pics_from_file(file)\n",
    " #   plt.imshow(values,aspect=\"auto\",)\n",
    " #   plt.savefig(\"../data/PNGs/pics_\" + key + \".png\")"
   ],
   "metadata": {
    "collapsed": false,
    "pycharm": {
     "name": "#%%\n"
    }
   }
  },
  {
   "cell_type": "markdown",
   "source": [
    "### Bibliothèques utilisées :"
   ],
   "metadata": {
    "collapsed": false,
    "pycharm": {
     "name": "#%% md\n"
    }
   }
  },
  {
   "cell_type": "code",
   "execution_count": 146,
   "outputs": [],
   "source": [
    "from sklearn.model_selection import train_test_split\n",
    "from sklearn.preprocessing import StandardScaler\n",
    "from sklearn.neighbors import KNeighborsClassifier\n",
    "from sklearn.metrics import confusion_matrix,f1_score,accuracy_score\n",
    "import glob"
   ],
   "metadata": {
    "collapsed": false,
    "pycharm": {
     "name": "#%%\n"
    }
   }
  },
  {
   "cell_type": "markdown",
   "source": [
    "## Constitution du dataset"
   ],
   "metadata": {
    "collapsed": false,
    "pycharm": {
     "name": "#%% md\n"
    }
   }
  },
  {
   "cell_type": "code",
   "execution_count": 159,
   "outputs": [],
   "source": [
    "# Il faut enlever le bruit\n",
    "\n",
    "X,Y = [],[]\n",
    "\n",
    "pics_nokey, info = get_pics_from_file(\"../data/pics_NOKEY.bin\")\n",
    "\n",
    "letters = 0\n",
    "nokey = np.mean(pics_nokey,axis=0)\n",
    "for file in glob.glob(\"../data/pics_*.bin\"):\n",
    "    key = file.split(\"pics_\")[1].replace(\".bin\",\"\")\n",
    "    if key == \"LOGINMDP\":\n",
    "        continue\n",
    "    values, info = get_pics_from_file(file)\n",
    "    np.random.shuffle(values)\n",
    "    values = values[:3000]\n",
    "    values = np.subtract(values[:3000],nokey)\n",
    "    mean = np.mean(values,axis=0)\n",
    "    #values = values * mean\n",
    "    values = np.subtract(values,nokey)\n",
    "    for frame in values:\n",
    "        X.append(frame)\n",
    "        Y.append(key)\n",
    "    letters += 1\n",
    "X_train, X_test, Y_train, Y_test = train_test_split(X,Y,test_size=0.2)\n",
    "\n",
    "# Scaling des données\n",
    "sc_X = StandardScaler()\n",
    "X_train = sc_X.fit_transform(X_train)\n",
    "X_test = sc_X.transform(X_test)"
   ],
   "metadata": {
    "collapsed": false,
    "pycharm": {
     "name": "#%%\n"
    }
   }
  },
  {
   "cell_type": "markdown",
   "source": [
    "### KNN Algorithm"
   ],
   "metadata": {
    "collapsed": false,
    "pycharm": {
     "name": "#%% md\n"
    }
   }
  },
  {
   "cell_type": "code",
   "execution_count": 160,
   "outputs": [
    {
     "data": {
      "text/plain": "157"
     },
     "execution_count": 160,
     "metadata": {},
     "output_type": "execute_result"
    }
   ],
   "source": [
    "import math\n",
    "# Best value for N (internet said this)\n",
    "N = math.floor(math.sqrt(len(Y_test)))\n",
    "if N % 2 == 0:\n",
    "    N -= 1\n",
    "N"
   ],
   "metadata": {
    "collapsed": false,
    "pycharm": {
     "name": "#%%\n"
    }
   }
  },
  {
   "cell_type": "code",
   "execution_count": null,
   "outputs": [],
   "source": [
    "# KNN Clustering\n",
    "classifier = KNeighborsClassifier(n_neighbors=40, p=2, metric='euclidean',n_jobs=-1)\n",
    "classifier.fit(X_train,Y_train)\n",
    "Y_pred = classifier.predict(X_test)\n",
    "Y_pred\n",
    "\n",
    "### Evaluating model ###\n",
    "print(Y_test)\n",
    "print(accuracy_score(Y_test,Y_pred),\"%\")\n",
    "cm = confusion_matrix(Y_test,Y_pred)\n",
    "# La diagonale c'est les bons guess et le reste les fautes\n",
    "#print(cm)"
   ],
   "metadata": {
    "collapsed": false,
    "pycharm": {
     "name": "#%%\n",
     "is_executing": true
    }
   }
  },
  {
   "cell_type": "code",
   "execution_count": null,
   "outputs": [],
   "source": [
    "\"\"\" Code poubelle -> tests\n",
    "pics_nokey, info = get_pics_from_file(\"../data/pics_NOKEY.bin\")\n",
    "values, info = get_pics_from_file(\"../data/pics_3.bin\")\n",
    "print(np.mean(values,axis=0))\n",
    "np.random.shuffle(values)\n",
    "plt.imshow(values[:3000],aspect=\"auto\")\n",
    "plt.show()\n",
    "nokey = np.mean(pics_nokey,axis=0)\n",
    "denoised = np.subtract(values[:3000],nokey)\n",
    "plt.imshow(denoised,aspect=\"auto\")\n",
    "plt.show()\n",
    "mean = np.mean(values[:3000],axis=0)\n",
    "cleaned = values[:3000] * mean\n",
    "plt.imshow(cleaned,aspect=\"auto\")\n",
    "plt.show()\n",
    "\n",
    "denoised = np.subtract(cleaned,nokey)\n",
    "plt.imshow(denoised,aspect=\"auto\")\n",
    "plt.show()\n",
    "\"\"\""
   ],
   "metadata": {
    "collapsed": false,
    "pycharm": {
     "name": "#%%\n"
    }
   }
  },
  {
   "cell_type": "code",
   "execution_count": null,
   "outputs": [],
   "source": [
    "loginmdp, info = get_pics_from_file(\"../data/pics_LOGINMDP.bin\")"
   ],
   "metadata": {
    "collapsed": false,
    "pycharm": {
     "name": "#%%\n"
    }
   }
  }
 ],
 "metadata": {
  "kernelspec": {
   "display_name": "Python 3",
   "language": "python",
   "name": "python3"
  },
  "language_info": {
   "codemirror_mode": {
    "name": "ipython",
    "version": 2
   },
   "file_extension": ".py",
   "mimetype": "text/x-python",
   "name": "python",
   "nbconvert_exporter": "python",
   "pygments_lexer": "ipython2",
   "version": "2.7.6"
  }
 },
 "nbformat": 4,
 "nbformat_minor": 0
}